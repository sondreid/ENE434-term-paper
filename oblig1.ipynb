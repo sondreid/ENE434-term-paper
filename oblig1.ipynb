{
 "cells": [
  {
   "cell_type": "markdown",
   "metadata": {},
   "source": [
    "Before you turn this problem in, make sure everything runs as expected. First, **restart the kernel** (in the menubar, select Kernel$\\rightarrow$Restart) and then **run all cells** (in the menubar, select Cell$\\rightarrow$Run All).\n",
    "\n",
    "Make sure you fill in any place that says `YOUR CODE HERE` or `YOUR ANSWER HERE`, as well as your name and collaborators below:"
   ]
  },
  {
   "cell_type": "code",
   "execution_count": null,
   "metadata": {},
   "outputs": [],
   "source": [
    "NAME = \"\"\n",
    "COLLABORATORS = \"\""
   ]
  },
  {
   "cell_type": "code",
   "execution_count": 1,
   "metadata": {},
   "outputs": [
    {
     "ename": "ModuleNotFoundError",
     "evalue": "No module named 'lost_puffling'",
     "output_type": "error",
     "traceback": [
      "\u001b[1;31m---------------------------------------------------------------------------\u001b[0m",
      "\u001b[1;31mModuleNotFoundError\u001b[0m                       Traceback (most recent call last)",
      "\u001b[1;32m<ipython-input-1-aaec209df8a8>\u001b[0m in \u001b[0;36m<module>\u001b[1;34m()\u001b[0m\n\u001b[1;32m----> 1\u001b[1;33m \u001b[1;32mimport\u001b[0m \u001b[0mlost_puffling\u001b[0m\u001b[1;33m\u001b[0m\u001b[0m\n\u001b[0m\u001b[0;32m      2\u001b[0m \u001b[1;32mfrom\u001b[0m \u001b[0mlost_puffling_tests\u001b[0m \u001b[1;32mimport\u001b[0m \u001b[1;33m*\u001b[0m\u001b[1;33m\u001b[0m\u001b[0m\n",
      "\u001b[1;31mModuleNotFoundError\u001b[0m: No module named 'lost_puffling'"
     ]
    }
   ],
   "source": [
    "import lost_puffling  \n",
    "from lost_puffling_tests import *"
   ]
  },
  {
   "cell_type": "markdown",
   "metadata": {},
   "source": [
    "---"
   ]
  },
  {
   "cell_type": "markdown",
   "metadata": {
    "deletable": false,
    "editable": false,
    "nbgrader": {
     "checksum": "ac6163b40f62036c715d9751399d2f97",
     "grade": false,
     "grade_id": "cell-1565a6216afdc1e4",
     "locked": true,
     "schema_version": 1,
     "solution": false
    }
   },
   "source": [
    "# INF100 Obligatory Assignment 1\n",
    "\n",
    "Welcome to the first obligatory assignment! These assignments influence your final grade in the course. See the [course webpage at mitt.uib.no](https://mitt.uib.no/courses/12779) for more details.\n",
    "\n",
    "By popular demand we're back to the [Zelda](https://en.wikipedia.org/wiki/The_Legend_of_Zelda) theme. More specifically, you'll implement a simple [AI](https://en.wikipedia.org/wiki/Artificial_intelligence_in_video_games) that plays a not-yet-released Zelda game that we've developed. We expect the game to be a huge success once it hits the market. I think you'll be impressed by the graphics in particular. We haven't yet worked out the licensing deal with Nintendo. Please let us know if you know anyone there.\n",
    "\n",
    "As with the previous assignment you're going to work on the same code throughout the assignment. Initially the code will be short. However, as you progress you'll need to add more things. You'll need to both update functions and write new ones. Furthermore, you'll need to take some care to figure out what's wrong when the tests don't work.\n",
    "\n",
    "## General Guidelines\n",
    "These are general guidelines that will (hopefully) help you preserve your sanity through your programming endeavours.\n",
    "* Set aside time to clean up your code. The number that gets bandied around on the internet is that the best programmers spend roughly half their time cleaning up and rewriting their code, i.e., you are halfway done when you get it working.\n",
    "* The sooner you start programming the longer it takes, i.e., make sure you understand the problem and have an idea for how to solve it before you get started. Writing comments first and the code second is often good practice.\n",
    "* Make sure you understand the current assignment before moving on. Building on bedrock is better than building on sand.\n",
    "* You should be spending a significant amount of time on [Stack Overflow](https://stackoverflow.com/) and [Google](https://duckduckgo.com/?q=how+to+python). Even experienced programmers do this.\n",
    "* [PEP8](https://www.python.org/dev/peps/pep-0008/) is the official Python style guilde. Following these guidelines makes sure your code is neat and easy to read by you and others.\n",
    "\n",
    "## Deadline\n",
    "* You should submit preliminary version before [**Friday, 2018-09-28 at 23:59:59 (CEST)**](https://www.timeanddate.no/nedtelling/standard?iso=20180928T235959&p0=287&msg=Oblig1+Delinnlevering&font=cursive), and we expect you to be more or less done with Problem 2 by then (if not, you should ask for help!).\n",
    "* Your final version should be done by [**Friday, 2018-10-05 at 23:59:59 (CEST)**](https://www.timeanddate.no/nedtelling/standard?iso=20181005T235959&p0=287&msg=Oblig+1+Innlevering&font=cursive).\n",
    "\n",
    "You can submit and resubmit at any time and as many times as you like; we won't start grading until the final deadline has passed.\n",
    "\n",
    "* *Deadline extensions:* if you need a little bit more time, talk to your teaching assistant and make a schedule for completing the assignment. You don't have to tell us why if it's just a short delay. If there are special circumstances you think we should be aware of, you can contact Anya, May-Lill, Albin or Martha, or studieveileder@ii.uib.no.\n",
    "\n",
    "## Grading\n",
    "\n",
    "We'll grade your assignment based on two criteria:\n",
    "* For each problem we assign a score that is based on the number of tests your code passes. On top of this we'll award additional points for well-written and commented code. Code conforming to [PEP8](https://www.python.org/dev/peps/pep-0008/) will receive the higest score.\n",
    "* We'll run your code for a set of standardized dungeons and count the number of steps Link needs to complete the dungeon. If you implement `query_decision()` carefully you can minimize the number of steps needed. A low number of average steps will award addiitonal points. With your permission we'd also like to demo especially cool implementations.\n",
    "\n",
    "More specifically,\n",
    "* 60% of the score is divided evenly over all the test cases. Each additional test case you pass will award an equal number of additional points.\n",
    "* 40% of the score is based on code quality and comments. You'll receive full score if you follow the PEP8 guidelines and if your code is neat and tidy.\n",
    "\n",
    "On top of this we'll award up to an additional 10% (beyond the 100% from solving the problems in the assignment) based on how efficiently [Link](https://en.wikipedia.org/wiki/Link_(The_Legend_of_Zelda)) completes the dungeon as measured by the number of actions. We'll test this on a secret set of dungeons. This requires that you work on your own outside of the problems given in this assignment. You can spend a lot of time on this one if you want to make something really optimized :)\n",
    "\n",
    "## The Legend of Zelda: The Lost Puffling\n",
    "\n",
    "This is the game we've developed. The code two cells down from here is the implementation of the actual game. It uses several concepts that have not been covered in the course yet. However, it's sufficient to know that the game calls the `query_decision()` function whenever the player has the opportunity to do something. The game expects this function to return a string representing the action the player wants to carry out. \n",
    "\n",
    "You're going to write `query_decision()` function such that it automatically makes a decision every time it's called. The decision should be based on the information given via the function arguments. By writing this function you're effectively implementing an AI that plays the game on its own. \n",
    "\n",
    "Regarding the game graphical user interface:\n",
    "* The room [Link](https://en.wikipedia.org/wiki/Link_(The_Legend_of_Zelda)) is in currently is colored red.\n",
    "* Previously visited rooms are colored black.\n",
    "* Rooms adjoining those you've previously visited are colored gray. Because rooms may be placed on top of each other the game may draw a gray square over one that was previously black.\n",
    "* Link's starting point is marked with a green circle. His path through the dungeon is marked with a green line.\n",
    "* The Big Door is marked with a blue square (once discovered).\n",
    "* The Small Chest is marked with a red triangle (once discovered).\n",
    "* The dungeon is procedurally generated, i.e., you get a new dungeon every time you run the game.\n",
    "\n",
    "The game works like this:\n",
    "* Explore the dungeon by moving around.\n",
    "* Find the small key.\n",
    "* The small key opens the small chest, which is somewhere in the dungeon.\n",
    "* In the small chest you find the boomerang.\n",
    "* You can use the boomerang to get the Big Key, which is somewhere in the dungeon.\n",
    "* The Big Key opens the final room, where the Lost Puffling is trapped.\n",
    "\n",
    "You'll be working in the code cell below throughout the whole assignment. For every problem you go back to this cell to make the modifications needed. You'll need to write multiple functions into this cell throughout the assignment. **Make sure to clean up your code between each problem. Otherwise this assignment will become very difficult**.\n",
    "\n",
    "The [signature](https://en.wikipedia.org/wiki/Type_signature) of the main functions you'll be working on is `query_decision(inventory, room_info, west, north, east, south)`. Its arguments are:\n",
    "* inventory: comma-separated string with items in inventory, e.g., `'boomerang,small key'`.\n",
    "\n",
    "* room_info: a string with information about the room, e.g., `'there is a small chest in the room'` or `'you can use the boomerang to open up a new path'`. \n",
    "\n",
    "* west, north, east, south: corresponds to the rooms in the respective direction. A value of `None` means there's no path in that direction. A non-negative integer (e.g., `west >= 0`) means it's possible for the player to move in this direction. The value is the number of times the player has visited that room, e.g., if `west` is `0`, that means it's possible to move to the west and that the player hasn't visited that room before, and a value of 3 means that the player has visited that room 3 times already.\n",
    "\n",
    "The function should always return a string representing the player's choice. The valid string you may return will be given throughout the assignment.\n",
    "\n",
    "### Example\n",
    "For example, in this case, we have an empty inventory, there are no special features in the room, and we can only go west (and we haven't gone there before), so we'd expect the decision to be `'west'`:\n",
    "```python\n",
    "d = query_decision('', '', 0, None, None, None)\n",
    "assert d == 'west', \"We need to go west\"\n",
    "```\n",
    "and in this case, we're carrying a small key, there's a small chest in the room (which can presumably be opened by the key), and we can go north or go back east:\n",
    "```python\n",
    "d = query_decision('small key', 'There is a small chest in the room.', None, 0, 1, None)\n",
    "assert d == 'open' or d == 'north' or d == 'east', \"Can't do \" + d\n",
    "```\n",
    "\n",
    "<div class=\"tip\">\n",
    "    <h3 class=\"tip-header\">Tip: print / assert</h3>\n",
    "    <div class=\"tip-body\">\n",
    "        \n",
    "You might want to add a few `print` or `assert` statements to your `query_decision` function, so you can track the decision-making. For example, you might want to print out the arguments:\n",
    "```python\n",
    "    # We're using string formatting, indicated by the f before the quotes, so\n",
    "    # {inventory} is replaced by the value of the variable inventory\n",
    "    print(f\"Inventory: {inventory}\") \n",
    "    print(f\"Room info: {room_info}\")\n",
    "    print(f\"Directions: west={west}, north={north}, east={east}, south={south}\")\n",
    "```\n",
    "or double-check that our decisions make sense using assert:\n",
    "```python\n",
    "    if wanna_go_east:\n",
    "        print(\"Decision: going east\")\n",
    "        assert east != None, \"Can't go east if east is None\"\n",
    "        return 'east'\n",
    "```\n",
    "</div>\n",
    "\n",
    "<div class=\"tip\">\n",
    "    <h3 class=\"tip-header\">Python Tip: Functions, Parameters, Arguments and Return Values</h3>\n",
    "    <div class=\"tip-body\">\n",
    "        \n",
    "```Python\n",
    "def f(a, b):\n",
    "    return a + b\n",
    "```\n",
    "Remember that when a function is called (e.g., `f(1+2, 2*7)`) the *actual argument* values are computed and placed in the *formal parameter* variables (e.g., `a = 3`, `b = 14`). When the function reaches the `return` statement, the *return value* is computed and becomes the value of the function call.\n",
    "</div>\n",
    "\n",
    "# Your Code\n",
    "You can write your solution in the cell below.\n",
    "\n",
    "<span class=\"nbnav\">Jump to: [Your Code](#Your-Code) – [Running the game](#The-Game) – Problems [1a](#Problem-1a), [1b](#Problem-1b), [1c](#Problem-1c), [2a](#Problem-2a), [2b](#Problem-2b), [2c](#Problem-2c), [3a](#Problem-3a), [3b](#Problem-3b), [3c](#Problem-3c) – [Getting Ahead](#Getting-Ahead)</span>\n"
   ]
  },
  {
   "cell_type": "code",
   "execution_count": null,
   "metadata": {
    "deletable": false,
    "nbgrader": {
     "checksum": "8b192e1824ab496f5e89b353e65f3309",
     "grade": false,
     "grade_id": "cell-dd49ba701655981b",
     "locked": false,
     "schema_version": 1,
     "solution": true
    }
   },
   "outputs": [],
   "source": [
    "# needed for graphics in notebooks:\n",
    "%matplotlib notebook\n",
    "# import main code for the game, and all the tests:\n",
    "import lost_puffling  \n",
    "from lost_puffling_tests import *\n",
    "\n",
    "\n",
    "\n",
    "def query_decision(inventory, room_info, west, north, east, south):\n",
    "    '''query the player for a decision.\n",
    "    \n",
    "    args:\n",
    "    \n",
    "    inventory: comma-separated string with items in inventory, e.g.,\n",
    "    'boomerang,small key'.\n",
    "    \n",
    "    room_info: a string with information about the room, e.g.,\n",
    "    'there is a small chest in the room' or\n",
    "    'you can use the boomerang to open up a new path'.\n",
    "    \n",
    "    west, north, east, south: corresponds to the rooms in the\n",
    "    respective direction. a value of None means there's no path in\n",
    "    that direction. a non-negative integer means it's possible for the\n",
    "    player to move in this direction. the value is the number of times\n",
    "    the player has visited that room, e.g., west=0 means it's possible\n",
    "    to move to the west and that the player hasn't visited that\n",
    "    room. a value of 3 means that the player has visited that room 3\n",
    "    times already.\n",
    "    \n",
    "    returns:\n",
    "    \n",
    "    a string representing the player choice, e.g., 'west' to move west,\n",
    "    'open' to open any chests in the room (assuming you have a key) or 'boomerang' \n",
    "    to use the boomerang.\n",
    "    \n",
    "    '''\n",
    "    # YOUR CODE HERE\n",
    "\n",
    "test_all(quiet=True)"
   ]
  },
  {
   "cell_type": "markdown",
   "metadata": {
    "deletable": false,
    "editable": false,
    "nbgrader": {
     "checksum": "17674ccb2f4665a55091c79938759c29",
     "grade": false,
     "grade_id": "cell-cb86df7a02d97e49",
     "locked": true,
     "schema_version": 1,
     "solution": false
    }
   },
   "source": [
    "<span class=\"nbnav\">Jump to: [Your Code](#Your-Code) – [Running the game](#The-Game) – Problems [1a](#Problem-1a), [1b](#Problem-1b), [1c](#Problem-1c), [2a](#Problem-2a), [2b](#Problem-2b), [2c](#Problem-2c), [3a](#Problem-3a), [3b](#Problem-3b), [3c](#Problem-3c) – [Getting Ahead](#Getting-Ahead)</span>\n"
   ]
  },
  {
   "cell_type": "code",
   "execution_count": null,
   "metadata": {
    "deletable": false,
    "editable": false,
    "nbgrader": {
     "checksum": "c6153e569c533307e56b2d4b04aebb7c",
     "grade": true,
     "grade_id": "cell-032d71a5d1e845f3",
     "locked": true,
     "points": 0,
     "schema_version": 1,
     "solution": false
    }
   },
   "outputs": [],
   "source": [
    "### Run this cell for a quick re-test of your solution while you're working\n",
    "\n",
    "test_all()"
   ]
  },
  {
   "cell_type": "markdown",
   "metadata": {},
   "source": [
    "<span class=\"nbnav\">Jump to: [Your Code](#Your-Code) – [Running the game](#The-Game) – Problems [1a](#Problem-1a), [1b](#Problem-1b), [1c](#Problem-1c), [2a](#Problem-2a), [2b](#Problem-2b), [2c](#Problem-2c), [3a](#Problem-3a), [3b](#Problem-3b), [3c](#Problem-3c) – [Getting Ahead](#Getting-Ahead)</span>\n",
    "\n",
    "## The Game\n",
    "The code below is the implementation of the game. Don't worry that it uses a lot of things that haven't been covered in the course. It's enough that you know that the game calls the `query_decision()` function, which you need to implement. By calling this function the game asks you to make a decision. You indicate what Link should do by choosing the string you return."
   ]
  },
  {
   "cell_type": "code",
   "execution_count": null,
   "metadata": {},
   "outputs": [],
   "source": [
    "# run this cell to start the game\n",
    "lost_puffling.run_game()"
   ]
  },
  {
   "cell_type": "markdown",
   "metadata": {
    "deletable": false,
    "editable": false,
    "nbgrader": {
     "checksum": "776fff394b05ca280559d5be9ff7349d",
     "grade": false,
     "grade_id": "cell-c781279ef0cef783",
     "locked": true,
     "schema_version": 1,
     "solution": false
    }
   },
   "source": [
    "<span class=\"nbnav\">Jump to: [Your Code](#Your-Code) – [Running the game](#The-Game) – Problems [1a](#Problem-1a), [1b](#Problem-1b), [1c](#Problem-1c), [2a](#Problem-2a), [2b](#Problem-2b), [2c](#Problem-2c), [3a](#Problem-3a), [3b](#Problem-3b), [3c](#Problem-3c) – [Getting Ahead](#Getting-Ahead)</span>\n",
    "\n",
    "## Problem 1\n",
    "\n",
    "To move Link around the dungeon you return **one** of the following strings from your `query_decision()` function\n",
    "* `\"west\"`\n",
    "* `\"north\"`\n",
    "* `\"east\"`\n",
    "* `\"south\"`\n",
    "\n",
    "The game engine keeps track of where Link is in the dungeon and will move link in the direction you indicte. Note that you can only move in a direction where there's a door. This information is provided via the arguments of `query_decision()`. We'll cover this in the coming two subproblems.\n",
    "\n",
    "### Problem 1a\n",
    "\n",
    "You use the values of the function arguments `west`, `north`, `east` and `south` to figure out which direction you can move. We're going to refer to these arguments as the *direction arguments* for the remainder of the assignment. Specifically, a value of `None` for the argument corresponding to some direction means it's impossible to move there. For example, if the function argument `west` is `None` you may not move in this direction. If the function argument has a value that is a non-negative integer, e.g., `0` or `1`, you may move in that direction.\n",
    "\n",
    "**Update** your `query_decision()` function to return any of the directions (`\"west\"`, `\"north\"`, `\"east\"` or `\"south\"`) that Link may move in. For now it doesn't matter which one you return as long as the corresponding direction argument isn't `None`.\n",
    "\n",
    "Once these tests pass, try running the game! You should see Link moving around the dungeon."
   ]
  },
  {
   "cell_type": "code",
   "execution_count": null,
   "metadata": {},
   "outputs": [],
   "source": [
    "# PYTHON EXAMPLE: if\n",
    "def f(v):\n",
    "    if v is None:\n",
    "        print('v is None')\n",
    "    else:\n",
    "        print('v is not None (else)')\n",
    "\n",
    "    if v is not None:\n",
    "        print('v is not None')\n",
    "    else:\n",
    "        print('v is None (else)')\n",
    "    \n",
    "f(None)\n",
    "\n",
    "f(1)"
   ]
  },
  {
   "cell_type": "code",
   "execution_count": null,
   "metadata": {
    "deletable": false,
    "editable": false,
    "nbgrader": {
     "checksum": "068dd859810f550c459c1b79715ba215",
     "grade": true,
     "grade_id": "cell-9b3676876c78549e",
     "locked": true,
     "points": 2,
     "schema_version": 1,
     "solution": false
    }
   },
   "outputs": [],
   "source": [
    "# RUN THIS TO TEST PROBLEM 1a\n",
    "test_problem_1a()"
   ]
  },
  {
   "cell_type": "markdown",
   "metadata": {
    "deletable": false,
    "editable": false,
    "nbgrader": {
     "checksum": "a76b5d6aa8f57c397fcdc0b806267711",
     "grade": false,
     "grade_id": "cell-e4a5d82f38727b81",
     "locked": true,
     "schema_version": 1,
     "solution": false
    }
   },
   "source": [
    "<span class=\"nbnav\">Jump to: [Your Code](#Your-Code) – [Running the game](#The-Game) – Problems [1a](#Problem-1a), [1b](#Problem-1b), [1c](#Problem-1c), [2a](#Problem-2a), [2b](#Problem-2b), [2c](#Problem-2c), [3a](#Problem-3a), [3b](#Problem-3b), [3c](#Problem-3c) – [Getting Ahead](#Getting-Ahead)</span>\n",
    "\n",
    "### Problem 1b\n",
    "\n",
    "When I'm playing Zelda and I'm faced with a choice of paths I tend to prefer exploring the paths I've visited least previously. We're going to add this behavior to our AI. Fortunately, the game engine helps us with keeping track of how many times we've visited a given room via the direction function arguments. Specifically,\n",
    "* The value of the argument for a direction you can move in is an integer. Its value indicates the number of times you've previously visited that room. For example, if `west==0` you haven't visited the room to the west. If `north==2` you've visited the room to the north twice previosuly.\n",
    "* Remember that if the value for some direction is `None` you may not move there.\n",
    "\n",
    "Implement this behavior by **writing a new function** `greedy_direction(west, north, east, south)`. It should implement the following behavior:\n",
    "* Out of the directions you can move, return the direction towards a room you've visited the smallest number of times. For example, if the arguments are `greedy_direction(None, 1, 3, 2)`, `\"north\"` is the correct choice. For `greedy_direction(4, None, 2, 2)`, either `\"east\"` or `\"south\"` are correct choices.\n",
    "\n",
    "To play the game using this strategy, call `greedy_direction()` from your `query_decision()` function, i.e.,\n",
    "```Python\n",
    "def query_decision(inventory, room_info, west, north, east, south):\n",
    "    direction = greedy_direction(west, north, east, south)\n",
    "    return direction\n",
    "```\n",
    "This is fine for trying out its behavior. We'll make more additions to `query_decision()` later. I've removed the docstring here for brevity. Please don't actually remove the docstring in your own code. Remember that we grade code quality, which includes comments ;)\n",
    "\n",
    "<div class=\"tip\">\n",
    "    <h3 class=\"tip-header\">Tip: assert (again)</h3>\n",
    "    <div class=\"tip-body\">\n",
    "        \n",
    "You can double check your decision-making with `assert`. For example, if you chose to go `\"east\"`, all the other directions must either be `None` or `>= east`:\n",
    "```python\n",
    "def greedy_direction(west, north, east, south):\n",
    "    …\n",
    "    elif …: # going east...\n",
    "        assert north is None or north >= east, \"add a helpful error message here\"\n",
    "        …\n",
    "        return 'east'\n",
    "    …\n",
    "```\n",
    "This could help you catch any mistakes that might slip through while we're testing – perhaps if there's some combination of directions we didn't think of testing for.\n",
    "    </div>\n",
    "</div>"
   ]
  },
  {
   "cell_type": "code",
   "execution_count": null,
   "metadata": {
    "deletable": false,
    "editable": false,
    "nbgrader": {
     "checksum": "72bfce481b357890ba24e3741c5ecf00",
     "grade": true,
     "grade_id": "cell-e7c3aa4ac42896e2",
     "locked": true,
     "points": 2,
     "schema_version": 1,
     "solution": false
    }
   },
   "outputs": [],
   "source": [
    "# RUN THIS TO TEST PROBLEM 1b\n",
    "test_problem_1b()"
   ]
  },
  {
   "cell_type": "markdown",
   "metadata": {
    "deletable": false,
    "editable": false,
    "nbgrader": {
     "checksum": "13d6ce410f7d63668e51aa45bab11513",
     "grade": false,
     "grade_id": "cell-69f75712084e4155",
     "locked": true,
     "schema_version": 1,
     "solution": false
    }
   },
   "source": [
    "<span class=\"nbnav\">Jump to: [Your Code](#Your-Code) – [Running the game](#The-Game) – Problems [1a](#Problem-1a), [1b](#Problem-1b), [1c](#Problem-1c), [2a](#Problem-2a), [2b](#Problem-2b), [2c](#Problem-2c), [3a](#Problem-3a), [3b](#Problem-3b), [3c](#Problem-3c) – [Getting Ahead](#Getting-Ahead)</span>\n",
    "\n",
    "\n",
    "### Problem 1c\n",
    "Before moving on to the second problem you should spend some time **cleaning up** and **improving your code**. Try to make it as easy to understand as possible. Comment anything where it's not obvious why it's there. It's considered good policy to comment why a line of code exists and not what it does. For example, I can see that `a += 5` adds `5` to the variable `a` by reading the code but I'd need a comment to understand why it adds `5` to `a`.\n",
    "\n",
    "The rule of thumb is that you should spend about as much time cleaning up and improving your code as you did solving the problem. This means you're halfway done when you get it working. \n",
    "\n",
    "Two more considerations:\n",
    "* Doing the remaining assignments will become much more difficult if your code is a mess.\n",
    "* We give additional points for high code quality.\n"
   ]
  },
  {
   "cell_type": "markdown",
   "metadata": {},
   "source": [
    "## Problem 2\n",
    "For problem 2 we're going to deal with Link's inventory.\n",
    "\n",
    "### Problem 2a\n",
    "One of the most critical items in Zelda is the Big Key that leads to the boss room.\n",
    "\n",
    "* **Implement a function** `has_big_key(inventory)` that returns `True` if Link has the Big Key and `False` otherwise. Remember that the `inventory` argument given to `query_decision()` is a comma-separated string listing the items, e.g., `\"boomerang,big key,small key\"`.\n",
    "\n",
    "\n",
    "<div class=\"tip\">\n",
    "    <h3 class=\"tip-header\">Tip: finding substrings</h3>\n",
    "    <div class=\"tip-body\">\n",
    "\n",
    "You can check if a string contains another string with the ‘*substring* `in` *string*’-operator. For example: \n",
    "```Python\n",
    ">>> 'th' in 'Python'\n",
    "True\n",
    ">>> 'I' in 'team'\n",
    "False\n",
    "```\n",
    "You can also see if the `find` method returns `>= 0`:\n",
    "```Python\n",
    ">>> 'Python'.find('th')\n",
    "2\n",
    ">>> 'team'.find('I')\n",
    "-1\n",
    "```\n",
    "</div>\n",
    "</div>\n",
    "        "
   ]
  },
  {
   "cell_type": "code",
   "execution_count": null,
   "metadata": {
    "deletable": false,
    "editable": false,
    "nbgrader": {
     "checksum": "926774d33fbd956fb3c6ed6fe5603af7",
     "grade": true,
     "grade_id": "cell-9862174fc646bf27",
     "locked": true,
     "points": 2,
     "schema_version": 1,
     "solution": false
    }
   },
   "outputs": [],
   "source": [
    "# RUN THIS TO TEST PROBLEM 2a\n",
    "test_problem_2a()"
   ]
  },
  {
   "cell_type": "markdown",
   "metadata": {
    "deletable": false,
    "editable": false,
    "nbgrader": {
     "checksum": "4393ecd24a00656fef6b78d2c5eb18b2",
     "grade": false,
     "grade_id": "cell-2f85a3d2a193cd8f",
     "locked": true,
     "schema_version": 1,
     "solution": false
    }
   },
   "source": [
    "### Problem 2b\n",
    "Before obtaining the Big Key you need to find the Small Key, which unlocks the chest that contains the Boomerang. The Boomerang can then be used to get the Big Key. **Implement** the following two functions `has_small_key(inventory)` and `has_boomerang(inventory)`. These should work like the `has_big_key(inventory)` function from the previous problem, i.e., return `True` if the corresponding item is in Link's inventory and `False` otherwise."
   ]
  },
  {
   "cell_type": "code",
   "execution_count": null,
   "metadata": {
    "deletable": false,
    "editable": false,
    "nbgrader": {
     "checksum": "68b9fcaf84710d4c0be75575f3245f57",
     "grade": true,
     "grade_id": "cell-f9b30842a72c9095",
     "locked": true,
     "points": 2,
     "schema_version": 1,
     "solution": false
    }
   },
   "outputs": [],
   "source": [
    "# RUN THIS TO TEST PROBLEM 2b\n",
    "test_problem_2b()"
   ]
  },
  {
   "cell_type": "markdown",
   "metadata": {
    "deletable": false,
    "editable": false,
    "nbgrader": {
     "checksum": "8882882760287a51468ed5a1ebca3223",
     "grade": false,
     "grade_id": "cell-f4fbcd148c2650a7",
     "locked": true,
     "schema_version": 1,
     "solution": false
    }
   },
   "source": [
    "### Problem 2c\n",
    "I'm guessing you've been using `if item in inventory` for the previous two problems. Unless one is careful this can result in a bug where it returns `True` for items Link doesn't actually have. Consider this case\n",
    "* `'big key' in 'not-big key'` returns `True`. However, Link doesn't actually have the Big Key. He has another item whose name contains the name of another item.\n",
    "\n",
    "Furthermore, we shouldn't assume that every programmer in our extensive development team capitalizes BiG key (or other item names) the same way. \n",
    "\n",
    "**Change your code** to make sure it works in these cases:\n",
    "* Item name contains another item name as a substring\n",
    "* Non-standard capitalization.\n",
    "* Strange combinations of spaces.\n",
    "\n",
    "This isn't actually required to play the game, i.e., you can complete the assignment without passing all of these tests. However, it's a chance to snag a couple of extra points."
   ]
  },
  {
   "cell_type": "code",
   "execution_count": null,
   "metadata": {
    "deletable": false,
    "editable": false,
    "nbgrader": {
     "checksum": "445c34d291b3ab442932ded0b07866da",
     "grade": true,
     "grade_id": "cell-94fd78aa9cb344e3",
     "locked": true,
     "points": 2,
     "schema_version": 1,
     "solution": false
    }
   },
   "outputs": [],
   "source": [
    "# RUN THIS TO TEST PROBLEM 2c\n",
    "test_problem_2c()"
   ]
  },
  {
   "cell_type": "markdown",
   "metadata": {
    "deletable": false,
    "editable": false,
    "nbgrader": {
     "checksum": "6a3f94d66b11f3615f5bfc92f2d43518",
     "grade": false,
     "grade_id": "cell-3f5d192eb4d6087f",
     "locked": true,
     "schema_version": 1,
     "solution": false
    }
   },
   "source": [
    "<span class=\"nbnav\">Jump to: [Your Code](#Your-Code) – [Running the game](#The-Game) – Problems [1a](#Problem-1a), [1b](#Problem-1b), [1c](#Problem-1c), [2a](#Problem-2a), [2b](#Problem-2b), [2c](#Problem-2c), [3a](#Problem-3a), [3b](#Problem-3b), [3c](#Problem-3c) – [Getting Ahead](#Getting-Ahead)</span>\n",
    "\n",
    "## Problem 3\n",
    "That's movement and inventory sorted. Nice work. Next is reacting to what's in each room. This information is given via the `room_info` argument (see the signature of `query_decision()`). \n",
    "\n",
    "### Problem 3a\n",
    "**Add** the following to `query_decision()`:\n",
    "* If `room_info` is `'There is a small chest in the room.'` *and* you have a small key in your inventory, return `'open'`.\n",
    "* If `room_info` is `'You can use the boomerang to get the Big Key.'` *and* you have the boomerang in your inventory, return `'boomerang'`.\n",
    "* If you can't do anything else, move to the adjoining room you've visited the smallest number of times. Use the `greedy_direction()` function you've written previously for this.\n",
    "\n",
    "Use the `has_small_key()` and `has_boomerang()` functions you've written previously."
   ]
  },
  {
   "cell_type": "code",
   "execution_count": null,
   "metadata": {
    "deletable": false,
    "editable": false,
    "nbgrader": {
     "checksum": "a2abc6a1752eca37348db940e714be5d",
     "grade": true,
     "grade_id": "cell-06969a73b8081916",
     "locked": true,
     "points": 6,
     "schema_version": 1,
     "solution": false
    }
   },
   "outputs": [],
   "source": [
    "# RUN THIS TO TEST PROBLEM 3a\n",
    "test_problem_3a()"
   ]
  },
  {
   "cell_type": "markdown",
   "metadata": {
    "deletable": false,
    "editable": false,
    "nbgrader": {
     "checksum": "ef0b862e36894826e79b5e9c35aaf458",
     "grade": false,
     "grade_id": "cell-5f227be86fbfa22e",
     "locked": true,
     "schema_version": 1,
     "solution": false
    }
   },
   "source": [
    "<span class=\"nbnav\">Jump to: [Your Code](#Your-Code) – [Running the game](#The-Game) – Problems [1a](#Problem-1a), [1b](#Problem-1b), [1c](#Problem-1c), [2a](#Problem-2a), [2b](#Problem-2b), [2c](#Problem-2c), [3a](#Problem-3a), [3b](#Problem-3b), [3c](#Problem-3c) – [Getting Ahead](#Getting-Ahead)</span>\n",
    "\n",
    "### Problem 3b\n",
    "In each dungeon there's a Big Door that can only be opened using the Big Key. **Implement** this behavior:\n",
    "* If `room_info` is `'You see the Big Door to the {direction}.'`, where `{direction}` is one of `'west'`, `'north'`, `'east'` or `'south'` and you have the Big Key, return `'open the big door to the {direction}'` from `query_decision()`. For example, if `room_info` is `'You see the Big Door to the west.'` and you have the Big Key, return `'open the big door to the west'`.\n",
    "* If you don't have the Big Key you should keep exploring as in the previous problem.\n",
    "\n",
    "(For this exercise, see if you can try to extract the direction from `room_info` using string methods, instead of making one `if` case for each of the four possible `You see`-strings.)"
   ]
  },
  {
   "cell_type": "code",
   "execution_count": null,
   "metadata": {},
   "outputs": [],
   "source": [
    "# PYTHON EXAMPLE: splitting strings\n",
    "def example_split():\n",
    "    s = 'foo bar'\n",
    "    l = s.split(' ') # returns a list ['foo', 'bar']\n",
    "    first_word = l[0]\n",
    "    second_word = l[1]\n",
    "    print('first word:', first_word)\n",
    "    print('second word:', second_word)\n",
    "example_split()"
   ]
  },
  {
   "cell_type": "code",
   "execution_count": null,
   "metadata": {},
   "outputs": [],
   "source": [
    "# PYTHON EXAMPLE: removing punctuation\n",
    "def example_punct():\n",
    "    s = 'Foo bar.'\n",
    "    s = s.replace('.', '')\n",
    "    print(s)\n",
    "example_punct()"
   ]
  },
  {
   "cell_type": "code",
   "execution_count": null,
   "metadata": {
    "deletable": false,
    "editable": false,
    "nbgrader": {
     "checksum": "35d90fa50b11ecc9f57f7421b38b60d6",
     "grade": true,
     "grade_id": "cell-e09e531ac933d51c",
     "locked": true,
     "points": 2,
     "schema_version": 1,
     "solution": false
    }
   },
   "outputs": [],
   "source": [
    "# RUN THIS TO TEST PROBLEM 3b\n",
    "test_problem_3b()"
   ]
  },
  {
   "cell_type": "markdown",
   "metadata": {},
   "source": [
    "<span class=\"nbnav\">Jump to: [Your Code](#Your-Code) – [Running the game](#The-Game) – Problems [1a](#Problem-1a), [1b](#Problem-1b), [1c](#Problem-1c), [2a](#Problem-2a), [2b](#Problem-2b), [2c](#Problem-2c), [3a](#Problem-3a), [3b](#Problem-3b), [3c](#Problem-3c) – [Getting Ahead](#Getting-Ahead)</span>\n",
    "### Problem 3c\n",
    "\n",
    "After opening the Big Door you can move through it with your next action. Since we're trying to complete the dungeon as quickly as possible there's no point in exploring further. However, once the Big Door has been opened `room_info` will be the empty string (`''`). If you want to complete the dungeon as quickly as possible your code needs to remember the direction of the Big Door between calls to `query_decision()`.\n",
    "\n",
    "To do this we'll use a global variable. \n",
    "* Call this variable `BIG_DOOR_DIRECTION` (upper case is commonly used for global variables). This is required by our tests.\n",
    "* `BIG_DOOR_DIRECTION` should store the direction of the big door as the string `'west'`, `'north'`, `'east'` or `'south'` if and only if the Big Door is in the current room and it has been opened.\n",
    "* `BIG_DOOR_DIRECTION` should have value `None` if the Big Door isn't in the current room. \n",
    "* You can implement this behavior by setting is value to `None` every time you move into a new room and setting it to the correct direction when `query_decision()` is called with `room_info='You see the Big Door to the {direction}.'`.\n",
    "* If `BIG_DOOR_DIRECTION` isn't `None` and you've opened the Big Door you should move through it regardless of if there are other adjoining rooms you haven't visited.\n",
    "\n",
    "This feature isn't strictly necessary to complete the game. However, it'll give you some additional points and allow you to complete the dungeon faster."
   ]
  },
  {
   "cell_type": "code",
   "execution_count": null,
   "metadata": {},
   "outputs": [],
   "source": [
    "# PYTHON EXAMPLE - global variables\n",
    "\n",
    "# global variables are stored outside any function\n",
    "V = 0 # V is initialized with this value\n",
    "\n",
    "def f():\n",
    "    global V # note the use of the global keyword\n",
    "    # without 'global', Python would still use the global V, as long as we don't do V = something\n",
    "    if V > 10: # after loading V with the global keyword we can use it in if etc.\n",
    "        print('V is larger than 10')\n",
    "    else:\n",
    "        print('V is at most 10')\n",
    "        \n",
    "def g():\n",
    "    global V # note the use of the global keyword\n",
    "    # without 'global', V would be local, and disappear when the function returns\n",
    "    V = 11 # changes made to V here are visible to all functions\n",
    "    print('set value of V to 11')\n",
    "    \n",
    "f()\n",
    "f()\n",
    "g()\n",
    "f()"
   ]
  },
  {
   "cell_type": "code",
   "execution_count": null,
   "metadata": {
    "deletable": false,
    "editable": false,
    "nbgrader": {
     "checksum": "76da71762c7afd8a4c6f03e010b793b2",
     "grade": true,
     "grade_id": "cell-8014f5d19e582f82",
     "locked": true,
     "points": 2,
     "schema_version": 1,
     "solution": false
    }
   },
   "outputs": [],
   "source": [
    "# RUN THIS TO TEST PROBLEM 3c\n",
    "test_problem_3c()"
   ]
  },
  {
   "cell_type": "markdown",
   "metadata": {
    "deletable": false,
    "editable": false,
    "nbgrader": {
     "checksum": "1885aa6d8268139fe49483bd493cd17a",
     "grade": false,
     "grade_id": "cell-3aa69e390e07b32c",
     "locked": true,
     "schema_version": 1,
     "solution": false
    }
   },
   "source": [
    "<span class=\"nbnav\">Jump to: [Your Code](#Your-Code) – [Running the game](#The-Game) – Problems [1a](#Problem-1a), [1b](#Problem-1b), [1c](#Problem-1c), [2a](#Problem-2a), [2b](#Problem-2b), [2c](#Problem-2c), [3a](#Problem-3a), [3b](#Problem-3b), [3c](#Problem-3c) – [Getting Ahead](#Getting-Ahead)</span>\n",
    "\n",
    "## Getting Ahead\n",
    "This assignment has involved a lot of different concepts. Nice work getting this far. One could argue that we've glossed over a few details when it comes to game AI but the general principle holds true: Take in information about the environment, process it in some way and make a decision based on it. Our strategy for greedily choosing a direction is a so-called heuristic or rule of thumb. It works well most of the time but there may more efficient strategies.\n",
    "\n",
    "The getting ahead part of this assignment is to optimize your `query_decision()` function. Remember that we want to complete the dungeon in the smallest number of actions possible. An optimization I'd consider is to remember the location of the small chest so that when you find the key you can backtrack to the chest in the smallest number of steps. For example, you could store a list in a global variable where you store the steps you need to get back to the chest. You could use the same strategy to remember the location of the Big Door.\n",
    "\n",
    "Another possible optimization is to never walk back to the room you came from when you exit a room unless there are no other options.\n",
    "\n",
    "This part is meant as preparation for the coming course material and includes materiel not yet covered in the course. Then again, you never have to catch up if you're always getting ahead. This part requires doing more learning on your own. You're in very good shape if you can complete it :)"
   ]
  },
  {
   "cell_type": "code",
   "execution_count": null,
   "metadata": {},
   "outputs": [],
   "source": []
  }
 ],
 "metadata": {
  "kernelspec": {
   "display_name": "Python 3",
   "language": "python",
   "name": "python3"
  },
  "language_info": {
   "codemirror_mode": {
    "name": "ipython",
    "version": 3
   },
   "file_extension": ".py",
   "mimetype": "text/x-python",
   "name": "python",
   "nbconvert_exporter": "python",
   "pygments_lexer": "ipython3",
   "version": "3.6.5"
  }
 },
 "nbformat": 4,
 "nbformat_minor": 2
}
